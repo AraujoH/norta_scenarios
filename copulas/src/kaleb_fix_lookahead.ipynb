{
 "cells": [
  {
   "cell_type": "code",
   "execution_count": 1,
   "metadata": {},
   "outputs": [
    {
     "name": "stderr",
     "output_type": "stream",
     "text": [
      "\u001b[32m\u001b[1m  Activating\u001b[22m\u001b[39m project at `C:\\Users\\ks885\\Documents\\aa_research\\Modeling\\norta_scenarios`"
     ]
    },
    {
     "name": "stderr",
     "output_type": "stream",
     "text": [
      "\n"
     ]
    }
   ],
   "source": [
    "using Pkg\n",
    "Pkg.activate(\"C:\\\\Users\\\\ks885\\\\Documents\\\\aa_research\\\\Modeling\\\\norta_scenarios\")\n",
    "Pkg.instantiate()"
   ]
  },
  {
   "cell_type": "code",
   "execution_count": 2,
   "metadata": {},
   "outputs": [
    {
     "name": "stderr",
     "output_type": "stream",
     "text": [
      "\u001b[32m\u001b[1m  Activating\u001b[22m\u001b[39m project at `c:\\Users\\ks885\\Documents\\aa_research\\Modeling\\norta_scenarios\\copulas`\n"
     ]
    },
    {
     "ename": "ErrorException",
     "evalue": "The activated project did not match asserted name. Current project name is copulas while the asserted name is norta_scenarios.",
     "output_type": "error",
     "traceback": [
      "The activated project did not match asserted name. Current project name is copulas while the asserted name is norta_scenarios.\n",
      "\n",
      "Stacktrace:\n",
      " [1] error(s::String)\n",
      "   @ Base .\\error.jl:35\n",
      " [2] quickactivate(path::String, name::String)\n",
      "   @ DrWatson C:\\Users\\ks885\\.julia\\packages\\DrWatson\\86H4O\\src\\project_setup.jl:138\n",
      " [3] top-level scope\n",
      "   @ c:\\Users\\ks885\\Documents\\aa_research\\Modeling\\norta_scenarios\\copulas\\src\\kaleb_fix_lookahead.ipynb:2"
     ]
    }
   ],
   "source": [
    "using DrWatson\n",
    "@quickactivate(\"norta_scenarios\")\n",
    "\n",
    "# Import all required packages. \n",
    "begin\n",
    "    using CSV\n",
    "    using DataFrames\n",
    "    using Dates\n",
    "    using DelimitedFiles\n",
    "    using Distributions\n",
    "    using HDF5\n",
    "    using LaTeXStrings\n",
    "    using LinearAlgebra\n",
    "    using LinearSolve\n",
    "    using Random\n",
    "    using Statistics\n",
    "    using StatsBase\n",
    "    using Plots\n",
    "    using Tables\n",
    "    using TSFrames\n",
    "    using TimeZones\n",
    "end\n",
    "\n",
    "# Include functions \n",
    "include(projectdir(\"src\", \"fct_bind_historical_forecast.jl\"));\n",
    "include(projectdir(\"src\", \"fct_compute_hourly_average_actuals.jl\"));\n",
    "include(projectdir(\"src\", \"fct_compute_landing_probability.jl\"));\n",
    "include(projectdir(\"src\", \"fct_convert_hours_2018.jl\"));\n",
    "include(projectdir(\"src\", \"fct_convert_ISO_standard.jl\"));\n",
    "include(projectdir(\"src\", \"fct_convert_land_prob_to_data.jl\"));\n",
    "include(projectdir(\"src\", \"fct_generate_probability_scenarios.jl\"));\n",
    "#include(projectdir(\"src\", \"fct_getplots.jl\"));\n",
    "#include(projectdir(\"src\", \"fct_plot_correlation_heatmap.jl\"));\n",
    "include(projectdir(\"src\", \"fct_plot_historical_landing.jl\"));\n",
    "include(projectdir(\"src\", \"fct_plot_historical_synthetic_autocorrelation.jl\"));\n",
    "include(projectdir(\"src\", \"fct_plot_correlogram_landing_probability.jl\"));\n",
    "include(projectdir(\"src\", \"fct_plot_scenarios_and_actual.jl\"));\n",
    "include(projectdir(\"src\", \"fct_read_h5_file.jl\"));\n",
    "include(projectdir(\"src\", \"fct_read_input_file.jl\"));\n",
    "include(projectdir(\"src\", \"fct_transform_landing_probability.jl\"));\n",
    "include(projectdir(\"src\", \"fct_write_percentiles.jl\"));\n",
    "\n",
    "\n"
   ]
  },
  {
   "cell_type": "code",
   "execution_count": 3,
   "metadata": {},
   "outputs": [
    {
     "ename": "UndefVarError",
     "evalue": "UndefVarError: `read_input_file` not defined",
     "output_type": "error",
     "traceback": [
      "UndefVarError: `read_input_file` not defined\n",
      "\n",
      "Stacktrace:\n",
      " [1] top-level scope\n",
      "   @ c:\\Users\\ks885\\Documents\\aa_research\\Modeling\\norta_scenarios\\copulas\\src\\kaleb_fix_lookahead.ipynb:7"
     ]
    }
   ],
   "source": [
    "#=======================================================================\n",
    "READ INPUT FILE\n",
    "=======================================================================#\n",
    "input_file_path = projectdir(\"copulas.txt\")\n",
    "\n",
    "# XXX Needs to be updated to be a hardcoded instead of reading in a text file\n",
    "data_type,\n",
    "scenario_length,\n",
    "number_of_scenarios,\n",
    "scenario_hour,\n",
    "scenario_day,\n",
    "scenario_month,\n",
    "scenario_year,\n",
    "read_locally,\n",
    "historical_load,\n",
    "forecast_load,\n",
    "historical_solar,\n",
    "forecast_da_solar,\n",
    "forecast_2da_solar,\n",
    "historical_wind,\n",
    "forecastd_da_wind,\n",
    "forecast_2da_wind,\n",
    "write_percentile = read_input_file(input_file_path);"
   ]
  },
  {
   "cell_type": "code",
   "execution_count": 4,
   "metadata": {},
   "outputs": [
    {
     "ename": "UndefVarError",
     "evalue": "UndefVarError: `scenario_length` not defined",
     "output_type": "error",
     "traceback": [
      "UndefVarError: `scenario_length` not defined\n"
     ]
    }
   ],
   "source": [
    "scenario_length"
   ]
  },
  {
   "cell_type": "code",
   "execution_count": 5,
   "metadata": {},
   "outputs": [
    {
     "ename": "UndefVarError",
     "evalue": "UndefVarError: `historical_load` not defined",
     "output_type": "error",
     "traceback": [
      "UndefVarError: `historical_load` not defined\n",
      "\n",
      "Stacktrace:\n",
      " [1] top-level scope\n",
      "   @ c:\\Users\\ks885\\Documents\\aa_research\\Modeling\\norta_scenarios\\copulas\\src\\kaleb_fix_lookahead.ipynb:9"
     ]
    }
   ],
   "source": [
    "\n",
    "#=======================================================================\n",
    "READ INPUT DATA: ARPA-E PERFORM PROJECT H5 FILES\n",
    "=======================================================================#\n",
    "# Function that reads the .h5 file and binds the time index and the actuals/fore-\n",
    "# cast values into a single dataframe.\n",
    "\n",
    "# Load data\n",
    "load_actuals = read_h5_file(datadir(\"exp_raw\", historical_load), \"load\");\n",
    "load_forecast = read_h5_file(datadir(\"exp_raw\", \"ercot_BA_load_forecast_day_ahead_2018.h5\"), \"load\", false);\n",
    "\n",
    "# Solar data\n",
    "solar_actuals = read_h5_file(datadir(\"exp_raw\", \"ercot_BA_solar_actuals_Existing_2018.h5\"), \"solar\");\n",
    "solar_forecast_dayahead = read_h5_file(datadir(\"exp_raw\", \"ercot_BA_solar_forecast_day_ahead_existing_2018.h5\"), \"solar\", false);\n",
    "solar_forecast_2dayahead = read_h5_file(datadir(\"exp_raw\", \"ercot_BA_solar_forecast_2_day_ahead_existing_2018.h5\"), \"solar\", false);\n",
    "\n",
    "# Wind data\n",
    "wind_actuals = read_h5_file(datadir(\"exp_raw\",\"ercot_BA_wind_actuals_Existing_2018.h5\"), \"wind\");\n",
    "wind_forecast_dayahead = read_h5_file(datadir(\"exp_raw\", \"ercot_BA_wind_forecast_day_ahead_existing_2018.h5\"), \"wind\", false);\n",
    "wind_forecast_2dayahead = read_h5_file(datadir(\"exp_raw\", \"ercot_BA_wind_forecast_2_day_ahead_existing_2018.h5\"), \"wind\", false);\n",
    "\n",
    "#=======================================================================\n",
    "Compute the hourly average for the actuals data\n",
    "=======================================================================#\n",
    "# Load\n",
    "aux = compute_hourly_average_actuals(load_actuals);\n",
    "load_actual_avg = DataFrame();\n",
    "time_index = aux[:, :Index];\n",
    "avg_actual = aux[:, :values_mean];\n",
    "load_actual_avg[!, :time_index] = time_index;\n",
    "load_actual_avg[!, :avg_actual] = avg_actual;\n",
    "\n",
    "# Solar\n",
    "aux = compute_hourly_average_actuals(solar_actuals);\n",
    "time_index = aux[:, :Index];\n",
    "avg_actual = aux[:, :values_mean];\n",
    "solar_actual_avg = DataFrame();\n",
    "solar_actual_avg[!, :time_index] = time_index;\n",
    "solar_actual_avg[!, :avg_actual] = avg_actual;\n",
    "\n",
    "# Wind\n",
    "aux = compute_hourly_average_actuals(wind_actuals);\n",
    "time_index = aux[:, :Index];\n",
    "avg_actual = aux[:, :values_mean];\n",
    "wind_actual_avg = DataFrame();\n",
    "wind_actual_avg[!, :time_index] = time_index;\n",
    "wind_actual_avg[!, :avg_actual] = avg_actual;\n",
    "\n",
    "#=======================================================================\n",
    "ADJUST THE TIME \n",
    "=======================================================================#\n",
    "#= For the year of 2018, adjust the time to Texas' UTC (UTC-6 or UTC-5)\n",
    "depending on daylight saving time =#\n",
    "\n",
    "# Load data\n",
    "load_actuals = convert_hours_2018(load_actuals);\n",
    "load_actual_avg = convert_hours_2018(load_actual_avg);\n",
    "load_forecast = convert_hours_2018(load_forecast, false);\n",
    "\n",
    "# Solar data\n",
    "solar_actuals = convert_hours_2018(solar_actuals);\n",
    "solar_actual_avg = convert_hours_2018(solar_actual_avg);\n",
    "solar_forecast_dayahead = convert_hours_2018(solar_forecast_dayahead, false);\n",
    "solar_forecast_2dayahead = convert_hours_2018(solar_forecast_2dayahead, false);\n",
    "\n",
    "# Wind data\n",
    "wind_actuals = convert_hours_2018(wind_actuals);\n",
    "wind_actual_avg = convert_hours_2018(wind_actual_avg);\n",
    "wind_forecast_dayahead = convert_hours_2018(wind_forecast_dayahead, false);\n",
    "wind_forecast_2dayahead = convert_hours_2018(wind_forecast_2dayahead, false);"
   ]
  },
  {
   "cell_type": "code",
   "execution_count": 6,
   "metadata": {},
   "outputs": [
    {
     "ename": "UndefVarError",
     "evalue": "UndefVarError: `bind_historical_forecast` not defined",
     "output_type": "error",
     "traceback": [
      "UndefVarError: `bind_historical_forecast` not defined\n",
      "\n",
      "Stacktrace:\n",
      " [1] top-level scope\n",
      "   @ c:\\Users\\ks885\\Documents\\aa_research\\Modeling\\norta_scenarios\\copulas\\src\\kaleb_fix_lookahead.ipynb:10"
     ]
    }
   ],
   "source": [
    "#=======================================================================\n",
    "BIND HOURLY HISTORICAL DATA WITH FORECAST DATA\n",
    "========================================================================#\n",
    "#= The binding is made by (\"forecast_time\" = \"time_index\"). This causes the \n",
    "average actual value to be duplicated, which is desired, given the # of rows\n",
    "in the load_forecast is double that of load_actual. To distinguish a \n",
    "one-day-ahead forecast from a two-day-ahead forecast, the column \"ahead_factor\"\n",
    "is introduced. Bind the day-ahead and two-day-ahead forecasts for wind and solar\n",
    "to get all the forecast data into one object as it is for load forecast =#\n",
    "    load_data = bind_historical_forecast(true,\n",
    "    load_actual_avg,\n",
    "    load_forecast);\n",
    "\n",
    "solar_data = bind_historical_forecast(false,\n",
    "    solar_actual_avg,\n",
    "    solar_forecast_dayahead,\n",
    "    solar_forecast_2dayahead);\n",
    "\n",
    "wind_data = bind_historical_forecast(false,\n",
    "    wind_actual_avg,\n",
    "    wind_forecast_dayahead,\n",
    "    wind_forecast_2dayahead);"
   ]
  },
  {
   "cell_type": "code",
   "execution_count": 7,
   "metadata": {},
   "outputs": [
    {
     "ename": "UndefVarError",
     "evalue": "UndefVarError: `wind_data` not defined",
     "output_type": "error",
     "traceback": [
      "UndefVarError: `wind_data` not defined\n"
     ]
    }
   ],
   "source": [
    "wind_data"
   ]
  },
  {
   "cell_type": "code",
   "execution_count": 8,
   "metadata": {},
   "outputs": [
    {
     "ename": "UndefVarError",
     "evalue": "UndefVarError: `write_percentiles` not defined",
     "output_type": "error",
     "traceback": [
      "UndefVarError: `write_percentiles` not defined\n",
      "\n",
      "Stacktrace:\n",
      " [1] top-level scope\n",
      "   @ c:\\Users\\ks885\\Documents\\aa_research\\Modeling\\norta_scenarios\\copulas\\src\\kaleb_fix_lookahead.ipynb:7"
     ]
    }
   ],
   "source": [
    "#=======================================================================\n",
    "Write forecast percentile to files \n",
    "=======================================================================#\n",
    "#write_percentile(load_data, \"load\", scenario_year, scenario_month, scenario_day, scenario_hour);\n",
    "write_percentile = true\n",
    "if write_percentile\n",
    "    write_percentiles(load_data, \"load\", scenario_year, scenario_month, scenario_day, scenario_hour, 48)\n",
    "    write_percentiles(solar_data, \"solar\", scenario_year, scenario_month, scenario_day, scenario_hour, 48)\n",
    "    write_percentiles(wind_data, \"wind\", scenario_year, scenario_month, scenario_day, scenario_hour, 48)\n",
    "end"
   ]
  },
  {
   "cell_type": "code",
   "execution_count": 9,
   "metadata": {},
   "outputs": [
    {
     "ename": "UndefVarError",
     "evalue": "UndefVarError: `compute_landing_probability` not defined",
     "output_type": "error",
     "traceback": [
      "UndefVarError: `compute_landing_probability` not defined\n",
      "\n",
      "Stacktrace:\n",
      " [1] top-level scope\n",
      "   @ c:\\Users\\ks885\\Documents\\aa_research\\Modeling\\norta_scenarios\\copulas\\src\\kaleb_fix_lookahead.ipynb:12"
     ]
    }
   ],
   "source": [
    "#=======================================================================\n",
    "Landing probability\n",
    "=======================================================================#\n",
    "#= This section holds the calculation of the probability that the actual\n",
    "value was equaled or superior than the forecast percentiles for a given\n",
    "day. This is made possible by the estimation of an approximate CDF\n",
    "computed on the forecast percentiles. Once estimated, this function is\n",
    "used to find the \"landing probability\"; the prob. that the actual value\n",
    "is equal or greater than a % percentage of the forecast percentile.\n",
    "=#\n",
    "#include(here(\"src\", \"functions\", \"fct_compute_landing_probability.jl\"))\n",
    "landing_probability_load = compute_landing_probability(load_data);\n",
    "landing_probability_solar = compute_landing_probability(solar_data);\n",
    "landing_probability_wind = compute_landing_probability(wind_data);"
   ]
  },
  {
   "cell_type": "code",
   "execution_count": 10,
   "metadata": {},
   "outputs": [
    {
     "ename": "UndefVarError",
     "evalue": "UndefVarError: `load_data` not defined",
     "output_type": "error",
     "traceback": [
      "UndefVarError: `load_data` not defined\n",
      "\n",
      "Stacktrace:\n",
      " [1] top-level scope\n",
      "   @ c:\\Users\\ks885\\Documents\\aa_research\\Modeling\\norta_scenarios\\copulas\\src\\kaleb_fix_lookahead.ipynb:1"
     ]
    }
   ],
   "source": [
    "data = load_data\n",
    "percentile_column_index = startswith.(names(data), \"p_\");\n",
    "landing_probability = Vector{Float64}(undef, size(data, 1));\n",
    "\n",
    "# The BaseStats.ecdf() function applied to the forecasts returns a \n",
    "# function. The returned function is then saved as empirical_cdf \n",
    "# and used to calculate the empirical CDF of the historical \n",
    "# averaged actual data.\n",
    "#mm = Matrix{}(undef, size(data,1), 4);\n",
    "for i in range(1, size(data, 1))\n",
    "    quantiles = collect(data[i, percentile_column_index]);\n",
    "    empirical_cdf = ecdf(quantiles);\n",
    "    landing_probability[i] = empirical_cdf(data[i, :avg_actual]);\n",
    "    # -----\n",
    "    #= Storing min and max of adjust empirical_cdf function\n",
    "    mm[i,3] = empirical_cdf(0); #Min. value emp. CDF can compute\n",
    "    mm[i,4] = empirical_cdf(1); #Max. value emp. CDF can compute\n",
    "    =#\n",
    "end\n",
    "\n",
    "# -----\n",
    "#= Adding forecast and issue times to mm\n",
    "println(pwd())\n",
    "mm[:,1] = data[!, :forecast_time];\n",
    "mm[:,2] = data[!, :issue_time];\n",
    "writedlm(joinpath(pwd(),\"output\",\"max_min_ecdf.txt\"), mm, \";\")=#\n",
    "\n",
    "# Create a DataFrame with the forecast time, issue time, ahead factor\n",
    "# and the landing probability.\n",
    "landing_probability = DataFrame(landing_probability=landing_probability)\n",
    "landing_probability[!, :forecast_time] = data[!, :forecast_time]\n",
    "landing_probability[!, :issue_time] = data[!, :issue_time]\n",
    "landing_probability[!, :ahead_factor] = data[:, :ahead_factor]\n",
    "select!(landing_probability, [:issue_time, :forecast_time, :landing_probability, :ahead_factor])"
   ]
  },
  {
   "cell_type": "code",
   "execution_count": 11,
   "metadata": {},
   "outputs": [
    {
     "ename": "UndefVarError",
     "evalue": "UndefVarError: `transform_landing_probability` not defined",
     "output_type": "error",
     "traceback": [
      "UndefVarError: `transform_landing_probability` not defined\n",
      "\n",
      "Stacktrace:\n",
      " [1] top-level scope\n",
      "   @ c:\\Users\\ks885\\Documents\\aa_research\\Modeling\\norta_scenarios\\copulas\\src\\kaleb_fix_lookahead.ipynb:9"
     ]
    }
   ],
   "source": [
    "#=======================================================================\n",
    "ADJUST LANDING PROBABILITY DATAFRAME\n",
    "=======================================================================#\n",
    "#= Analysis to address point J.Mays raised on Slack on Dec. 29,2022.\n",
    "Sort the landing_probability dataframe by issue time. Then group the \n",
    "dataset by issue_time and count how many observations exist per \n",
    "issue_time. We're only interested in keeping the forecasts that share\n",
    "the same issue_time 48 times since 48 is the length for the generation=#\n",
    "lp_load = transform_landing_probability(landing_probability_load);\n",
    "lp_solar = transform_landing_probability(landing_probability_solar);\n",
    "lp_wind = transform_landing_probability(landing_probability_wind);"
   ]
  },
  {
   "cell_type": "code",
   "execution_count": 12,
   "metadata": {},
   "outputs": [
    {
     "ename": "UndefVarError",
     "evalue": "UndefVarError: `lp_load` not defined",
     "output_type": "error",
     "traceback": [
      "UndefVarError: `lp_load` not defined\n"
     ]
    }
   ],
   "source": [
    "lp_load"
   ]
  },
  {
   "cell_type": "markdown",
   "metadata": {},
   "source": [
    "* Does the ordering into a data process matrix double count the two-day ahead? \n",
    "    * no right? because it's by issue time..."
   ]
  },
  {
   "cell_type": "code",
   "execution_count": 13,
   "metadata": {},
   "outputs": [
    {
     "ename": "UndefVarError",
     "evalue": "UndefVarError: `landing_probability_load` not defined",
     "output_type": "error",
     "traceback": [
      "UndefVarError: `landing_probability_load` not defined\n",
      "\n",
      "Stacktrace:\n",
      " [1] top-level scope\n",
      "   @ c:\\Users\\ks885\\Documents\\aa_research\\Modeling\\norta_scenarios\\copulas\\src\\kaleb_fix_lookahead.ipynb:1"
     ]
    }
   ],
   "source": [
    "data = landing_probability_load\n",
    "x = copy(data);\n",
    "# Sort data by issue time\n",
    "sort!(x, :issue_time);\n",
    "\n",
    "# Group data by issue time and count occurences in every group\n",
    "df = combine(groupby(x, [:issue_time]), DataFrames.nrow => :count);\n",
    "\n",
    "# Filter data by count. Only keep groups with 48 entries\n",
    "df_filtered = filter(:count => ==(48), df);\n",
    "\n",
    "issue_times_interest = df_filtered[!, :issue_time];\n",
    "landing_probability_filtered = innerjoin(x, df_filtered, on=:issue_time);\n",
    "landing_probability_filtered_matrix = reshape(landing_probability_filtered[!, :landing_probability], (48, size(df_filtered, 1)));\n",
    "landing_probability_filtered_matrix = transpose(landing_probability_filtered_matrix)"
   ]
  },
  {
   "cell_type": "code",
   "execution_count": 14,
   "metadata": {},
   "outputs": [
    {
     "ename": "UndefVarError",
     "evalue": "UndefVarError: `lp_load` not defined",
     "output_type": "error",
     "traceback": [
      "UndefVarError: `lp_load` not defined\n"
     ]
    }
   ],
   "source": [
    "lp_load"
   ]
  },
  {
   "cell_type": "code",
   "execution_count": 15,
   "metadata": {},
   "outputs": [
    {
     "ename": "UndefVarError",
     "evalue": "UndefVarError: `lp_load` not defined",
     "output_type": "error",
     "traceback": [
      "UndefVarError: `lp_load` not defined\n",
      "\n",
      "Stacktrace:\n",
      " [1] top-level scope\n",
      "   @ c:\\Users\\ks885\\Documents\\aa_research\\Modeling\\norta_scenarios\\copulas\\src\\kaleb_fix_lookahead.ipynb:1"
     ]
    }
   ],
   "source": [
    "data = lp_load\n",
    "scenario_length = 48\n",
    "number_of_scenarios = 1000\n",
    "\n",
    "x = copy(data)\n",
    "allequal_set = Set(findall(allequal, eachcol(x)))\n",
    "allequal_ind = sort(collect(allequal_set));\n",
    "allindex_set = Set(collect(1:48));\n",
    "alldifferent_ind = sort(collect(setdiff(allindex_set, allequal_set))); # Index for columns whose st. dev. isn't zero\n",
    "x = x[:, alldifferent_ind]\n"
   ]
  },
  {
   "cell_type": "code",
   "execution_count": 16,
   "metadata": {},
   "outputs": [
    {
     "ename": "UndefVarError",
     "evalue": "UndefVarError: `cor` not defined",
     "output_type": "error",
     "traceback": [
      "UndefVarError: `cor` not defined\n",
      "\n",
      "Stacktrace:\n",
      " [1] top-level scope\n",
      "   @ c:\\Users\\ks885\\Documents\\aa_research\\Modeling\\norta_scenarios\\copulas\\src\\kaleb_fix_lookahead.ipynb:1"
     ]
    }
   ],
   "source": [
    "if ishermitian(cor(x))\n",
    "    Σ_Z = LinearAlgebra.cholesky(cor(x));\n",
    "else\n",
    "    Σ_Z = factorize(cor(x));\n",
    "end\n",
    "M = Σ_Z.L;\n",
    "dim_M = size(M, 1);"
   ]
  },
  {
   "cell_type": "code",
   "execution_count": 17,
   "metadata": {},
   "outputs": [
    {
     "ename": "UndefVarError",
     "evalue": "UndefVarError: `Random` not defined",
     "output_type": "error",
     "traceback": [
      "UndefVarError: `Random` not defined\n",
      "\n",
      "Stacktrace:\n",
      " [1] top-level scope\n",
      "   @ c:\\Users\\ks885\\Documents\\aa_research\\Modeling\\norta_scenarios\\copulas\\src\\kaleb_fix_lookahead.ipynb:2"
     ]
    }
   ],
   "source": [
    "    #Random.seed!(29031990)\n",
    "    Random.seed!(12345)\n",
    "    Y = Matrix{Float64}(undef, number_of_scenarios, scenario_length)\n",
    "\n",
    "    need_expansion = 0 # This is specially important for solar data with several columns whose st. dev. is zero\n",
    "    if dim_M != scenario_length\n",
    "        original_scen_length = scenario_length\n",
    "        scenario_length = dim_M\n",
    "        Y = Matrix{Float64}(undef, number_of_scenarios, scenario_length)\n",
    "        need_expansion = 1\n",
    "    end"
   ]
  },
  {
   "cell_type": "code",
   "execution_count": 18,
   "metadata": {},
   "outputs": [
    {
     "ename": "UndefVarError",
     "evalue": "UndefVarError: `Normal` not defined",
     "output_type": "error",
     "traceback": [
      "UndefVarError: `Normal` not defined\n",
      "\n",
      "Stacktrace:\n",
      " [1] top-level scope\n",
      "   @ c:\\Users\\ks885\\Documents\\aa_research\\Modeling\\norta_scenarios\\copulas\\src\\kaleb_fix_lookahead.ipynb:4"
     ]
    }
   ],
   "source": [
    "nscen = 1\n",
    "\n",
    "# Set up normal distribution with mean 0 and sd equal to 1\n",
    "d = Normal(0,1)\n",
    "\n"
   ]
  },
  {
   "cell_type": "code",
   "execution_count": 19,
   "metadata": {},
   "outputs": [
    {
     "ename": "UndefVarError",
     "evalue": "UndefVarError: `d` not defined",
     "output_type": "error",
     "traceback": [
      "UndefVarError: `d` not defined\n",
      "\n",
      "Stacktrace:\n",
      " [1] top-level scope\n",
      "   @ c:\\Users\\ks885\\Documents\\aa_research\\Modeling\\norta_scenarios\\copulas\\src\\kaleb_fix_lookahead.ipynb:2"
     ]
    }
   ],
   "source": [
    "#Generate vector W = (W_1, ..., W_k) ~ iid standard normal\n",
    "W = rand(d, scenario_length)\n",
    "\n"
   ]
  },
  {
   "cell_type": "markdown",
   "metadata": {},
   "source": [
    "* does scenario_length need to be changed here? \n",
    "    - no, i don't think so because you need to multiply it by a the lower triangular autocorrelation"
   ]
  },
  {
   "cell_type": "code",
   "execution_count": 20,
   "metadata": {},
   "outputs": [
    {
     "ename": "UndefVarError",
     "evalue": "UndefVarError: `M` not defined",
     "output_type": "error",
     "traceback": [
      "UndefVarError: `M` not defined\n",
      "\n",
      "Stacktrace:\n",
      " [1] top-level scope\n",
      "   @ c:\\Users\\ks885\\Documents\\aa_research\\Modeling\\norta_scenarios\\copulas\\src\\kaleb_fix_lookahead.ipynb:2"
     ]
    }
   ],
   "source": [
    "# Create vector Z such that Z <- MW\n",
    "Z = M * W"
   ]
  },
  {
   "cell_type": "code",
   "execution_count": 21,
   "metadata": {},
   "outputs": [
    {
     "ename": "UndefVarError",
     "evalue": "UndefVarError: `cdf` not defined",
     "output_type": "error",
     "traceback": [
      "UndefVarError: `cdf` not defined\n",
      "\n",
      "Stacktrace:\n",
      " [1] top-level scope\n",
      "   @ c:\\Users\\ks885\\Documents\\aa_research\\Modeling\\norta_scenarios\\copulas\\src\\kaleb_fix_lookahead.ipynb:1"
     ]
    }
   ],
   "source": [
    "cdf_Z = cdf.(d, Z)\n"
   ]
  },
  {
   "cell_type": "code",
   "execution_count": 22,
   "metadata": {},
   "outputs": [
    {
     "ename": "UndefVarError",
     "evalue": "UndefVarError: `x` not defined",
     "output_type": "error",
     "traceback": [
      "UndefVarError: `x` not defined\n",
      "\n",
      "Stacktrace:\n",
      " [1] top-level scope\n",
      "   @ c:\\Users\\ks885\\Documents\\aa_research\\Modeling\\norta_scenarios\\copulas\\src\\kaleb_fix_lookahead.ipynb:3"
     ]
    }
   ],
   "source": [
    "k = 1 # each idx of scenario length\n",
    "\n",
    "Y[nscen, k] = quantile(x[:, k], cdf_Z[k])"
   ]
  },
  {
   "cell_type": "markdown",
   "metadata": {},
   "source": [
    "* Is this incorrect? the documentation on quantile says \n",
    "    - quantile(d::UnivariateDistribution, q::Real)\n",
    "    * the column of first indices in x is the first hour in every issue... how is that supposed to be related to a simulation for just the first hour in our lookahead?\n",
    "    "
   ]
  },
  {
   "cell_type": "code",
   "execution_count": 23,
   "metadata": {},
   "outputs": [
    {
     "ename": "UndefVarError",
     "evalue": "UndefVarError: `x` not defined",
     "output_type": "error",
     "traceback": [
      "UndefVarError: `x` not defined\n",
      "\n",
      "Stacktrace:\n",
      " [1] top-level scope\n",
      "   @ c:\\Users\\ks885\\Documents\\aa_research\\Modeling\\norta_scenarios\\copulas\\src\\kaleb_fix_lookahead.ipynb:1"
     ]
    }
   ],
   "source": [
    "x[:,k]"
   ]
  },
  {
   "cell_type": "code",
   "execution_count": 24,
   "metadata": {},
   "outputs": [
    {
     "ename": "UndefVarError",
     "evalue": "UndefVarError: `cdf_Z` not defined",
     "output_type": "error",
     "traceback": [
      "UndefVarError: `cdf_Z` not defined\n",
      "\n",
      "Stacktrace:\n",
      " [1] top-level scope\n",
      "   @ c:\\Users\\ks885\\Documents\\aa_research\\Modeling\\norta_scenarios\\copulas\\src\\kaleb_fix_lookahead.ipynb:1"
     ]
    }
   ],
   "source": [
    "cdf_Z[k]"
   ]
  },
  {
   "cell_type": "markdown",
   "metadata": {},
   "source": [
    "* what should be the distribution?\n",
    "* what should be the real number? - shouldn't it be x[1,k] for k = 1:scenario_length"
   ]
  },
  {
   "cell_type": "code",
   "execution_count": 25,
   "metadata": {},
   "outputs": [
    {
     "ename": "UndefVarError",
     "evalue": "UndefVarError: `cdf_Z` not defined",
     "output_type": "error",
     "traceback": [
      "UndefVarError: `cdf_Z` not defined\n",
      "\n",
      "Stacktrace:\n",
      " [1] top-level scope\n",
      "   @ c:\\Users\\ks885\\Documents\\aa_research\\Modeling\\norta_scenarios\\copulas\\src\\kaleb_fix_lookahead.ipynb:1"
     ]
    }
   ],
   "source": [
    "test_scen = quantile(cdf_Z, x[1,k])"
   ]
  },
  {
   "cell_type": "markdown",
   "metadata": {},
   "source": [
    "* this seems correct.... "
   ]
  },
  {
   "cell_type": "markdown",
   "metadata": {},
   "source": [
    "So is it here that the scenario_length object needs to differ from the scenario_length as it has been defined previously? \n",
    "\n",
    "scenario length has previously been assumed to be 48, and that is how the base process matrix of landing probabilities is generated.\n",
    "\n",
    "However, we want to create a scenario of different length (based on some process i have yet to do). \n"
   ]
  },
  {
   "cell_type": "markdown",
   "metadata": {},
   "source": [
    "Update 2/6/2024\n",
    "\n",
    "* we need to draw from the random distribution created by the NORTA process, with respect to the current here&now actual point (I believe the quantile probability and not the actual data)\n",
    "* so I believe I was correct to say that the univariate distribution we use is the cdf_Z, and the point estimate we use is $q_t(x_{t,i},s^{avg}_t)$\n",
    "\n",
    "In code this is:\n"
   ]
  },
  {
   "cell_type": "markdown",
   "metadata": {},
   "source": [
    "first, need to take landing probability vector and put it into something that can be called easily later:"
   ]
  },
  {
   "cell_type": "code",
   "execution_count": 26,
   "metadata": {},
   "outputs": [
    {
     "ename": "UndefVarError",
     "evalue": "UndefVarError: `landing_probability_load` not defined",
     "output_type": "error",
     "traceback": [
      "UndefVarError: `landing_probability_load` not defined\n",
      "\n",
      "Stacktrace:\n",
      " [1] top-level scope\n",
      "   @ c:\\Users\\ks885\\Documents\\aa_research\\Modeling\\norta_scenarios\\copulas\\src\\kaleb_fix_lookahead.ipynb:1"
     ]
    }
   ],
   "source": [
    "q = landing_probability_load[:,:landing_probability]"
   ]
  },
  {
   "cell_type": "markdown",
   "metadata": {},
   "source": [
    "Oh, but you need the one that is related to the current time that you are in... so we have to keep track of the index location of where we are in the forecast with respect to the issue time!\n",
    "\n",
    "* how do we do that? \n",
    "    * we already have k, that tells us where in the scenario we are... but when k goes beyond the period we stay in a issue date forecast, how do we make sure we leave that?\n",
    "    * there are a number of times that we must keep track of:\n",
    "        * issue time of current issue\n",
    "        * issue time of next issue\n",
    "        * current rolling horizon index... which determines lookahead\n",
    "        * and when generating, where we are in the lookahead - \n",
    "            k in 1:scenario_length"
   ]
  },
  {
   "cell_type": "markdown",
   "metadata": {},
   "source": []
  },
  {
   "cell_type": "code",
   "execution_count": 27,
   "metadata": {},
   "outputs": [
    {
     "ename": "UndefVarError",
     "evalue": "UndefVarError: `scenario_year` not defined",
     "output_type": "error",
     "traceback": [
      "UndefVarError: `scenario_year` not defined\n",
      "\n",
      "Stacktrace:\n",
      " [1] top-level scope\n",
      "   @ c:\\Users\\ks885\\Documents\\aa_research\\Modeling\\norta_scenarios\\copulas\\src\\kaleb_fix_lookahead.ipynb:2"
     ]
    }
   ],
   "source": [
    "# Set the date and time for the forecasts\n",
    "start_date = DateTime(string(scenario_year) * \"-\" * string(scenario_month) * \"-\" * string(scenario_day) * \"T\" * string(scenario_hour));\n",
    "start_date"
   ]
  },
  {
   "cell_type": "markdown",
   "metadata": {},
   "source": [
    "Lets try to use just the solar forecast for the times, NOTE that I would need to check that the times are correlated correctly with the load and wind data"
   ]
  },
  {
   "cell_type": "code",
   "execution_count": 28,
   "metadata": {},
   "outputs": [
    {
     "ename": "UndefVarError",
     "evalue": "UndefVarError: `solar_forecast_2dayahead` not defined",
     "output_type": "error",
     "traceback": [
      "UndefVarError: `solar_forecast_2dayahead` not defined\n",
      "\n",
      "Stacktrace:\n",
      " [1] top-level scope\n",
      "   @ c:\\Users\\ks885\\Documents\\aa_research\\Modeling\\norta_scenarios\\copulas\\src\\kaleb_fix_lookahead.ipynb:1"
     ]
    }
   ],
   "source": [
    "times_2day = solar_forecast_2dayahead[!, [:forecast_time, :issue_time]]\n",
    "unique_2dayahead = unique(times_2day[!,:issue_time])\n",
    "\n",
    "times_1day = solar_forecast_dayahead[!, [:forecast_time, :issue_time]]\n",
    "unique_1dayahead = unique(times_1day[!,:issue_time])\n",
    "\n",
    "unique_1dayahead == unique_2dayahead"
   ]
  },
  {
   "cell_type": "markdown",
   "metadata": {},
   "source": [
    "as I suspected, there are not the same unique issue times in day ahead to 2 day ahead"
   ]
  },
  {
   "cell_type": "markdown",
   "metadata": {},
   "source": [
    "* --- check that solar load and wind are correlated later"
   ]
  },
  {
   "cell_type": "markdown",
   "metadata": {},
   "source": [
    "* are the forecast times the same?"
   ]
  },
  {
   "cell_type": "code",
   "execution_count": 29,
   "metadata": {},
   "outputs": [
    {
     "ename": "UndefVarError",
     "evalue": "UndefVarError: `times_1day` not defined",
     "output_type": "error",
     "traceback": [
      "UndefVarError: `times_1day` not defined\n",
      "\n",
      "Stacktrace:\n",
      " [1] top-level scope\n",
      "   @ c:\\Users\\ks885\\Documents\\aa_research\\Modeling\\norta_scenarios\\copulas\\src\\kaleb_fix_lookahead.ipynb:1"
     ]
    }
   ],
   "source": [
    "forecast_times_1day = times_1day[!,:forecast_time]\n",
    "forecast_times_2day = times_2day[!,:forecast_time]\n",
    "\n",
    "forecast_times_1day == forecast_times_2day"
   ]
  },
  {
   "cell_type": "markdown",
   "metadata": {},
   "source": [
    "- yes they are the same... good."
   ]
  },
  {
   "cell_type": "code",
   "execution_count": 30,
   "metadata": {},
   "outputs": [
    {
     "ename": "UndefVarError",
     "evalue": "UndefVarError: `wind_data` not defined",
     "output_type": "error",
     "traceback": [
      "UndefVarError: `wind_data` not defined\n",
      "\n",
      "Stacktrace:\n",
      " [1] top-level scope\n",
      "   @ c:\\Users\\ks885\\Documents\\aa_research\\Modeling\\norta_scenarios\\copulas\\src\\kaleb_fix_lookahead.ipynb:1"
     ]
    }
   ],
   "source": [
    "wind_times = wind_data[!, [:forecast_time, :issue_time]]\n",
    "unique_wind = unique(wind_data[!,:issue_time])\n",
    "\n",
    "solar_times = solar_data[!, [:forecast_time, :issue_time]]\n",
    "unique_solar = unique(solar_times[!,:issue_time])\n",
    "\n",
    "load_times = load_data[!, [:forecast_time, :issue_time]]\n",
    "unique_load = unique(load_times[!,:issue_time])\n",
    "\n",
    "unique_wind == unique_load"
   ]
  },
  {
   "cell_type": "code",
   "execution_count": 31,
   "metadata": {},
   "outputs": [
    {
     "ename": "UndefVarError",
     "evalue": "UndefVarError: `wind_times` not defined",
     "output_type": "error",
     "traceback": [
      "UndefVarError: `wind_times` not defined\n",
      "\n",
      "Stacktrace:\n",
      " [1] top-level scope\n",
      "   @ c:\\Users\\ks885\\Documents\\aa_research\\Modeling\\norta_scenarios\\copulas\\src\\kaleb_fix_lookahead.ipynb:1"
     ]
    }
   ],
   "source": [
    "times = wind_times\n",
    "hour_index = findall(x -> x == start_date, times[!,:forecast_time])[1]\n",
    "current_issue = times[hour_index, :issue_time]\n",
    "unique_issue_times = unique(times[!,:issue_time])\n"
   ]
  },
  {
   "cell_type": "markdown",
   "metadata": {},
   "source": [
    "This is only going to get 24 elements. Doing the active times will get less than 24 elements. "
   ]
  },
  {
   "cell_type": "code",
   "execution_count": 32,
   "metadata": {},
   "outputs": [
    {
     "ename": "UndefVarError",
     "evalue": "UndefVarError: `start_date` not defined",
     "output_type": "error",
     "traceback": [
      "UndefVarError: `start_date` not defined\n",
      "\n",
      "Stacktrace:\n",
      " [1] top-level scope\n",
      "   @ c:\\Users\\ks885\\Documents\\aa_research\\Modeling\\norta_scenarios\\copulas\\src\\kaleb_fix_lookahead.ipynb:1"
     ]
    }
   ],
   "source": [
    "start_date > next_issue"
   ]
  },
  {
   "cell_type": "code",
   "execution_count": 33,
   "metadata": {},
   "outputs": [
    {
     "ename": "UndefVarError",
     "evalue": "UndefVarError: `start_date` not defined",
     "output_type": "error",
     "traceback": [
      "UndefVarError: `start_date` not defined\n"
     ]
    }
   ],
   "source": [
    "start_date"
   ]
  },
  {
   "cell_type": "code",
   "execution_count": 34,
   "metadata": {},
   "outputs": [
    {
     "ename": "UndefVarError",
     "evalue": "UndefVarError: `next_issue` not defined",
     "output_type": "error",
     "traceback": [
      "UndefVarError: `next_issue` not defined\n"
     ]
    }
   ],
   "source": [
    "next_issue"
   ]
  },
  {
   "cell_type": "code",
   "execution_count": 35,
   "metadata": {},
   "outputs": [
    {
     "ename": "UndefVarError",
     "evalue": "UndefVarError: `next_issue` not defined",
     "output_type": "error",
     "traceback": [
      "UndefVarError: `next_issue` not defined\n"
     ]
    }
   ],
   "source": [
    "next_issue"
   ]
  },
  {
   "cell_type": "code",
   "execution_count": 36,
   "metadata": {},
   "outputs": [
    {
     "ename": "UndefVarError",
     "evalue": "UndefVarError: `forecast_times` not defined",
     "output_type": "error",
     "traceback": [
      "UndefVarError: `forecast_times` not defined\n",
      "\n",
      "Stacktrace:\n",
      " [1] top-level scope\n",
      "   @ c:\\Users\\ks885\\Documents\\aa_research\\Modeling\\norta_scenarios\\copulas\\src\\kaleb_fix_lookahead.ipynb:1"
     ]
    }
   ],
   "source": [
    "all_times = forecast_times[all_indices]\n",
    "# filter for the times that are after the current time, (greater than the current hour)\n",
    "active_times = all_times[all_times .>= start_date]"
   ]
  },
  {
   "cell_type": "markdown",
   "metadata": {},
   "source": [
    "active_times is the length of how long this scenario generation can go....\n",
    "* but how does the code know when to switch?\n",
    "    * can it switch automatically when index _____ goes past the current issue.... so then it is in the next issue.... then the if statement can actually just describe the current_issue as the next issue...\n",
    "        * does that iteratively solve/work?\n",
    "* also, how do we know what the scenario length is then? \n",
    "    * is the scenario length just this + 24? \n",
    "\n"
   ]
  },
  {
   "cell_type": "markdown",
   "metadata": {},
   "source": [
    "If the start datetime is at the next issue datetime, then the next scenario generation must begin"
   ]
  },
  {
   "cell_type": "code",
   "execution_count": 37,
   "metadata": {},
   "outputs": [
    {
     "ename": "UndefVarError",
     "evalue": "UndefVarError: `quantile` not defined",
     "output_type": "error",
     "traceback": [
      "UndefVarError: `quantile` not defined\n",
      "\n",
      "Stacktrace:\n",
      " [1] top-level scope\n",
      "   @ c:\\Users\\ks885\\Documents\\aa_research\\Modeling\\norta_scenarios\\copulas\\src\\kaleb_fix_lookahead.ipynb:1"
     ]
    }
   ],
   "source": [
    "scen = quantile(cdf_Z, )"
   ]
  }
 ],
 "metadata": {
  "kernelspec": {
   "display_name": "Julia 1.9.4",
   "language": "julia",
   "name": "julia-1.9"
  },
  "language_info": {
   "file_extension": ".jl",
   "mimetype": "application/julia",
   "name": "julia",
   "version": "1.9.4"
  }
 },
 "nbformat": 4,
 "nbformat_minor": 2
}
