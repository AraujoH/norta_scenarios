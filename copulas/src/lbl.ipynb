{
 "cells": [
  {
   "cell_type": "code",
   "execution_count": 30,
   "metadata": {},
   "outputs": [
    {
     "name": "stderr",
     "output_type": "stream",
     "text": [
      "\u001b[32m\u001b[1m  Activating\u001b[22m\u001b[39m project at `c:\\Users\\ks885\\Documents\\aa_research\\Modeling\\norta_scenarios\\copulas\\src\\copulas`"
     ]
    },
    {
     "name": "stderr",
     "output_type": "stream",
     "text": [
      "\n"
     ]
    }
   ],
   "source": [
    "# Scenario Generation with Copulas \n",
    "# \n",
    "# Hugo S. de Araujo\n",
    "# Nov. 14th, 2022 | Mays Group | Cornell University\n",
    "################################################################################\n",
    "\n",
    "#=======================================================================\n",
    "PROJECT SETUP\n",
    "=======================================================================#\n",
    "using Pkg\n",
    "Pkg.activate(\"copulas\");\n",
    "Pkg.instantiate();\n",
    "# Import \"here\" function. Wrapper to allow easy path concatenation.\n",
    "include(joinpath(@__DIR__, \"functions\", \"fct_here.jl\"))\n",
    "\n",
    "# Import all required packages. \n",
    "begin\n",
    "    # using AWSS3\n",
    "    using CSV\n",
    "    using DataFrames\n",
    "    using Dates\n",
    "    using DelimitedFiles\n",
    "    using Distributions\n",
    "    using HDF5\n",
    "    using JuliaFormatter\n",
    "    using LaTeXStrings\n",
    "    using LinearAlgebra\n",
    "    using LinearSolve\n",
    "    #using Measures\n",
    "    using Random\n",
    "    using RCall\n",
    "    using Revise\n",
    "    using Statistics\n",
    "    using StatsBase\n",
    "    #using StatsPlots\n",
    "    using OhMyREPL\n",
    "    using Plots\n",
    "    #using PrettyTables\n",
    "    using Tables\n",
    "    using TSFrames\n",
    "    using TimeZones\n",
    "end\n",
    "\n",
    "# Include functions \n",
    "#= functions_dirpath = joinpath(pwd(),\"src\", \"functions\");\n",
    "function_paths = readdir(functions_dirpath, join=true);\n",
    "function_index = occursin.(\".jl\", function_paths);\n",
    "functions_only = function_paths[function_index];\n",
    "\n",
    "for str in functions_only\n",
    "    include(str)\n",
    "end =#\n",
    "\n",
    "include(here(\"src\", \"functions\", \"fct_bind_historical_forecast.jl\"));\n",
    "include(here(\"src\", \"functions\", \"fct_compute_hourly_average_actuals.jl\"));\n",
    "include(here(\"src\", \"functions\", \"fct_compute_landing_probability.jl\"));\n",
    "include(here(\"src\", \"functions\", \"fct_convert_hours_2018.jl\"));\n",
    "include(here(\"src\", \"functions\", \"fct_convert_ISO_standard.jl\"));\n",
    "include(here(\"src\", \"functions\", \"fct_convert_land_prob_to_data.jl\"));\n",
    "include(here(\"src\", \"functions\", \"fct_generate_probability_scenarios.jl\"));\n",
    "include(here(\"src\", \"functions\", \"fct_getplots.jl\"));\n",
    "include(here(\"src\", \"functions\", \"fct_plot_correlation_heatmap.jl\"));\n",
    "include(here(\"src\", \"functions\", \"fct_plot_historical_landing.jl\"));\n",
    "include(here(\"src\", \"functions\", \"fct_plot_historical_synthetic_autocorrelation.jl\"));\n",
    "include(here(\"src\", \"functions\", \"fct_plot_correlogram_landing_probability.jl\"));\n",
    "include(here(\"src\", \"functions\", \"fct_plot_scenarios_and_actual.jl\"));\n",
    "include(here(\"src\", \"functions\", \"fct_read_h5_file.jl\"));\n",
    "include(here(\"src\", \"functions\", \"fct_read_input_file.jl\"));\n",
    "include(here(\"src\", \"functions\", \"fct_transform_landing_probability.jl\"));\n",
    "include(here(\"src\", \"functions\", \"fct_write_percentiles.jl\"));\n",
    "#=======================================================================\n",
    "READ INPUT FILE\n",
    "=======================================================================#\n",
    "input_file_path = here(\"src\\\\copulas.txt\")\n",
    "\n",
    "# XXX Needs to be updated to be a hardcoded instead of reading in a text file\n",
    "data_type,\n",
    "scenario_length,\n",
    "number_of_scenarios,\n",
    "scenario_hour,\n",
    "scenario_day,\n",
    "scenario_month,\n",
    "scenario_year,\n",
    "read_locally,\n",
    "historical_load,\n",
    "forecast_load,\n",
    "historical_solar,\n",
    "forecast_da_solar,\n",
    "forecast_2da_solar,\n",
    "historical_wind,\n",
    "forecastd_da_wind,\n",
    "forecast_2da_wind,\n",
    "write_percentile = read_input_file(input_file_path);\n",
    "\n",
    "#=======================================================================\n",
    "READ INPUT DATA: ARPA-E PERFORM PROJECT H5 FILES\n",
    "=======================================================================#\n",
    "# Function that reads the .h5 file and binds the time index and the actuals/fore-\n",
    "# cast values into a single dataframe.\n",
    "\n",
    "# Load data\n",
    "load_actuals = read_h5_file(here(\"data\", historical_load), \"load\");\n",
    "load_forecast = read_h5_file(here(\"data\", \"ercot_BA_load_forecast_day_ahead_2018.h5\"), \"load\", false);\n",
    "\n",
    "# Solar data\n",
    "solar_actuals = read_h5_file(here(\"data\", \"ercot_BA_solar_actuals_Existing_2018.h5\"), \"solar\");\n",
    "solar_forecast_dayahead = read_h5_file(here(\"data\", \"ercot_BA_solar_forecast_day_ahead_existing_2018.h5\"), \"solar\", false);\n",
    "solar_forecast_2dayahead = read_h5_file(here(\"data\", \"ercot_BA_solar_forecast_2_day_ahead_existing_2018.h5\"), \"solar\", false);\n",
    "\n",
    "# Wind data\n",
    "wind_actuals = read_h5_file(here(\"data\", \"ercot_BA_wind_actuals_Existing_2018.h5\"), \"wind\");\n",
    "wind_forecast_dayahead = read_h5_file(here(\"data\", \"ercot_BA_wind_forecast_day_ahead_existing_2018.h5\"), \"wind\", false);\n",
    "wind_forecast_2dayahead = read_h5_file(here(\"data\", \"ercot_BA_wind_forecast_2_day_ahead_existing_2018.h5\"), \"wind\", false);\n",
    "\n",
    "#=======================================================================\n",
    "Compute the hourly average for the actuals data\n",
    "=======================================================================#\n",
    "# Load\n",
    "aux = compute_hourly_average_actuals(load_actuals);\n",
    "load_actual_avg = DataFrame();\n",
    "time_index = aux[:, :Index];\n",
    "avg_actual = aux[:, :values_mean];\n",
    "load_actual_avg[!, :time_index] = time_index;\n",
    "load_actual_avg[!, :avg_actual] = avg_actual;\n",
    "\n",
    "# Solar\n",
    "aux = compute_hourly_average_actuals(solar_actuals);\n",
    "time_index = aux[:, :Index];\n",
    "avg_actual = aux[:, :values_mean];\n",
    "solar_actual_avg = DataFrame();\n",
    "solar_actual_avg[!, :time_index] = time_index;\n",
    "solar_actual_avg[!, :avg_actual] = avg_actual;\n",
    "\n",
    "# Wind\n",
    "aux = compute_hourly_average_actuals(wind_actuals);\n",
    "time_index = aux[:, :Index];\n",
    "avg_actual = aux[:, :values_mean];\n",
    "wind_actual_avg = DataFrame();\n",
    "wind_actual_avg[!, :time_index] = time_index;\n",
    "wind_actual_avg[!, :avg_actual] = avg_actual;\n",
    "\n"
   ]
  },
  {
   "cell_type": "code",
   "execution_count": null,
   "metadata": {},
   "outputs": [],
   "source": [
    "#=======================================================================\n",
    "ADJUST THE TIME \n",
    "=======================================================================#\n",
    "#= For the year of 2018, adjust the time to Texas' UTC (UTC-6 or UTC-5)\n",
    "depending on daylight saving time =#\n",
    "\n",
    "# Load data\n",
    "load_actuals = convert_hours_2018(load_actuals);\n",
    "load_actual_avg = convert_hours_2018(load_actual_avg);\n",
    "load_forecast = convert_hours_2018(load_forecast, false);\n",
    "ahead_factor = repeat([\"two\", \"one\"], size(load_forecast, 1) ÷ 2)\n",
    "load_forecast[!, :ahead_factor] = ahead_factor\n",
    "load_forecast_dayahead = filter(:ahead_factor => ==(\"one\"), load_forecast)\n",
    "load_forecast_2dayahead = filter(:ahead_factor => ==(\"two\"), load_forecast);\n",
    "\n",
    "# Solar data\n",
    "solar_actuals = convert_hours_2018(solar_actuals);\n",
    "solar_actual_avg = convert_hours_2018(solar_actual_avg);\n",
    "solar_forecast_dayahead = convert_hours_2018(solar_forecast_dayahead, false);\n",
    "solar_forecast_2dayahead = convert_hours_2018(solar_forecast_2dayahead, false);\n",
    "\n",
    "# Wind data\n",
    "wind_actuals = convert_hours_2018(wind_actuals);\n",
    "wind_actual_avg = convert_hours_2018(wind_actual_avg);\n",
    "wind_forecast_dayahead = convert_hours_2018(wind_forecast_dayahead, false);\n",
    "wind_forecast_2dayahead = convert_hours_2018(wind_forecast_2dayahead, false);"
   ]
  },
  {
   "cell_type": "code",
   "execution_count": 20,
   "metadata": {},
   "outputs": [],
   "source": [
    "forecast_da_data = load_forecast\n",
    "ahead_factor = repeat([\"two\", \"one\"], size(forecast_da_data, 1) ÷ 2)\n",
    "forecast_da_data[!, :ahead_factor] = ahead_factor\n",
    "load_da_data = filter(:ahead_factor => ==(\"one\"), forecast_da_data)\n",
    "load_2da_data = filter(:ahead_factor => ==(\"two\"), forecast_da_data);"
   ]
  },
  {
   "cell_type": "markdown",
   "metadata": {},
   "source": [
    "Now do load 1day ahead and wind solar 1day ahead forecasts equal each other?"
   ]
  },
  {
   "cell_type": "code",
   "execution_count": 26,
   "metadata": {},
   "outputs": [
    {
     "name": "stdout",
     "output_type": "stream",
     "text": [
      "true\n",
      "true\n",
      "true\n"
     ]
    }
   ],
   "source": [
    "println(load_da_data[:,:forecast_time] == wind_forecast_dayahead[:,:forecast_time])\n",
    "println(load_da_data[:,:forecast_time] == solar_forecast_dayahead[:,:forecast_time])\n",
    "println(wind_forecast_dayahead[:,:forecast_time] == solar_forecast_dayahead[:,:forecast_time])"
   ]
  },
  {
   "cell_type": "markdown",
   "metadata": {},
   "source": [
    "Good, this means they are consistent even if there is an issue with the daylight savings time\n",
    "\n",
    "Can the same be said about issue time?"
   ]
  },
  {
   "cell_type": "code",
   "execution_count": 27,
   "metadata": {},
   "outputs": [
    {
     "name": "stdout",
     "output_type": "stream",
     "text": [
      "true\n",
      "true\n",
      "true\n"
     ]
    }
   ],
   "source": [
    "println(load_da_data[:,:issue_time] == wind_forecast_dayahead[:,:issue_time])\n",
    "println(load_da_data[:,:issue_time] == solar_forecast_dayahead[:,:issue_time])\n",
    "println(wind_forecast_dayahead[:,:issue_time] == solar_forecast_dayahead[:,:issue_time])"
   ]
  },
  {
   "cell_type": "markdown",
   "metadata": {},
   "source": [
    "Good. what now?"
   ]
  },
  {
   "cell_type": "code",
   "execution_count": 28,
   "metadata": {},
   "outputs": [
    {
     "name": "stdout",
     "output_type": "stream",
     "text": [
      "true"
     ]
    },
    {
     "name": "stdout",
     "output_type": "stream",
     "text": [
      "\n",
      "true\n",
      "true\n"
     ]
    }
   ],
   "source": [
    "println(load_da_data[:,[:forecast_time, :issue_time]] == wind_forecast_dayahead[:,[:forecast_time, :issue_time]])\n",
    "println(load_da_data[:,[:forecast_time, :issue_time]] == solar_forecast_dayahead[:,[:forecast_time, :issue_time]])\n",
    "println(wind_forecast_dayahead[:,[:forecast_time, :issue_time]] == solar_forecast_dayahead[:,[:forecast_time, :issue_time]])"
   ]
  },
  {
   "cell_type": "markdown",
   "metadata": {},
   "source": [
    "Have to check load_ two day ahead data as well..."
   ]
  },
  {
   "cell_type": "code",
   "execution_count": 29,
   "metadata": {},
   "outputs": [
    {
     "name": "stdout",
     "output_type": "stream",
     "text": [
      "true\n",
      "true\n",
      "true\n",
      "true\n",
      "true\n",
      "true\n",
      "true\n",
      "true\n",
      "true\n"
     ]
    }
   ],
   "source": [
    "println(load_2da_data[:,:forecast_time] == wind_forecast_2dayahead[:,:forecast_time])\n",
    "println(load_2da_data[:,:forecast_time] == solar_forecast_2dayahead[:,:forecast_time])\n",
    "println(wind_forecast_2dayahead[:,:forecast_time] == solar_forecast_2dayahead[:,:forecast_time])\n",
    "println(load_2da_data[:,:issue_time] == wind_forecast_2dayahead[:,:issue_time])\n",
    "println(load_2da_data[:,:issue_time] == solar_forecast_2dayahead[:,:issue_time])\n",
    "println(wind_forecast_2dayahead[:,:issue_time] == solar_forecast_2dayahead[:,:issue_time])\n",
    "println(load_2da_data[:,[:forecast_time, :issue_time]] == wind_forecast_2dayahead[:,[:forecast_time, :issue_time]])\n",
    "println(load_2da_data[:,[:forecast_time, :issue_time]] == solar_forecast_2dayahead[:,[:forecast_time, :issue_time]])\n",
    "println(wind_forecast_2dayahead[:,[:forecast_time, :issue_time]] == solar_forecast_2dayahead[:,[:forecast_time, :issue_time]])"
   ]
  },
  {
   "cell_type": "markdown",
   "metadata": {},
   "source": []
  },
  {
   "cell_type": "code",
   "execution_count": 12,
   "metadata": {},
   "outputs": [],
   "source": [
    "#=======================================================================\n",
    "BIND HOURLY HISTORICAL DATA WITH FORECAST DATA\n",
    "========================================================================#\n",
    "#= The binding is made by (\"forecast_time\" = \"time_index\"). This causes the \n",
    "average actual value to be duplicated, which is desired, given the # of rows\n",
    "in the load_forecast is double that of load_actual. To distinguish a \n",
    "one-day-ahead forecast from a two-day-ahead forecast, the column \"ahead_factor\"\n",
    "is introduced. Bind the day-ahead and two-day-ahead forecasts for wind and solar\n",
    "to get all the forecast data into one object as it is for load forecast =#\n",
    "    load_data = bind_historical_forecast(true,\n",
    "    load_actual_avg,\n",
    "    load_forecast);\n",
    "\n",
    "solar_data = bind_historical_forecast(false,\n",
    "    solar_actual_avg,\n",
    "    solar_forecast_dayahead,\n",
    "    solar_forecast_2dayahead);\n",
    "\n",
    "wind_data = bind_historical_forecast(false,\n",
    "    wind_actual_avg,\n",
    "    wind_forecast_dayahead,\n",
    "    wind_forecast_2dayahead);"
   ]
  },
  {
   "cell_type": "code",
   "execution_count": 15,
   "metadata": {},
   "outputs": [
    {
     "data": {
      "text/plain": [
       "false"
      ]
     },
     "metadata": {},
     "output_type": "display_data"
    }
   ],
   "source": [
    "wind_data[:,:forecast_time] == load_data[:,:forecast_time]"
   ]
  },
  {
   "cell_type": "code",
   "execution_count": 35,
   "metadata": {},
   "outputs": [],
   "source": [
    "load_data = bind_historical_forecast(false,\n",
    "load_actual_avg,\n",
    "load_forecast_dayahead,\n",
    "load_forecast_2dayahead);"
   ]
  },
  {
   "cell_type": "code",
   "execution_count": 34,
   "metadata": {},
   "outputs": [
    {
     "name": "stdout",
     "output_type": "stream",
     "text": [
      "true\n",
      "true\n"
     ]
    }
   ],
   "source": [
    "println(wind_data[:,[:forecast_time, :issue_time]] == test_load_data[:,[:forecast_time, :issue_time]])\n",
    "println(solar_data[:,[:forecast_time, :issue_time]] == test_load_data[:,[:forecast_time, :issue_time]])"
   ]
  },
  {
   "cell_type": "code",
   "execution_count": 37,
   "metadata": {},
   "outputs": [],
   "source": [
    "wind_times = wind_data[!, [:forecast_time, :issue_time]]\n",
    "unique_wind = unique(wind_data[!,:issue_time])\n",
    "\n",
    "solar_times = solar_data[!, [:forecast_time, :issue_time]]\n",
    "unique_solar = unique(solar_times[!,:issue_time])\n",
    "\n",
    "load_times = load_data[!, [:forecast_time, :issue_time]]\n",
    "unique_load = unique(load_times[!,:issue_time]);"
   ]
  },
  {
   "cell_type": "code",
   "execution_count": 38,
   "metadata": {},
   "outputs": [
    {
     "data": {
      "text/plain": [
       "true"
      ]
     },
     "metadata": {},
     "output_type": "display_data"
    }
   ],
   "source": [
    "# XXX load data needs to be fixed, for now just use wind_times\n",
    "unique_wind == unique_load"
   ]
  },
  {
   "cell_type": "code",
   "execution_count": 47,
   "metadata": {},
   "outputs": [],
   "source": [
    "# all times series for forecast and issue are equal so take any data and extract both\n",
    "times = wind_data[!, [:forecast_time, :issue_time]]\n",
    "unique_forecast = unique(times[!,:forecast_time])\n",
    "unique_issue = unique(times[!, :issue_time]);"
   ]
  },
  {
   "cell_type": "code",
   "execution_count": 43,
   "metadata": {},
   "outputs": [],
   "source": [
    "start_date = DateTime(string(scenario_year) * \"-\" * string(scenario_month) * \"-\" * string(scenario_day) * \"T\" * string(scenario_hour));"
   ]
  },
  {
   "cell_type": "code",
   "execution_count": 54,
   "metadata": {},
   "outputs": [
    {
     "data": {
      "text/plain": [
       "2018-08-28T12:00:00"
      ]
     },
     "metadata": {},
     "output_type": "display_data"
    }
   ],
   "source": [
    "current_issue"
   ]
  },
  {
   "cell_type": "markdown",
   "metadata": {},
   "source": [
    "This begins the inside SLAC loop stuff"
   ]
  },
  {
   "cell_type": "code",
   "execution_count": 72,
   "metadata": {},
   "outputs": [
    {
     "data": {
      "text/plain": [
       "true"
      ]
     },
     "metadata": {},
     "output_type": "display_data"
    }
   ],
   "source": [
    "start_date > next_issue"
   ]
  },
  {
   "cell_type": "markdown",
   "metadata": {},
   "source": [
    "Try figure out the T"
   ]
  },
  {
   "cell_type": "code",
   "execution_count": 73,
   "metadata": {},
   "outputs": [
    {
     "data": {
      "text/plain": [
       "8758"
      ]
     },
     "metadata": {},
     "output_type": "display_data"
    }
   ],
   "source": [
    "length(unique_forecast)"
   ]
  },
  {
   "cell_type": "code",
   "execution_count": 74,
   "metadata": {},
   "outputs": [],
   "source": [
    "#=======================================================================\n",
    "Landing probability\n",
    "=======================================================================#\n",
    "landing_probability_load = compute_landing_probability(load_data);\n",
    "landing_probability_solar = compute_landing_probability(solar_data);\n",
    "landing_probability_wind = compute_landing_probability(wind_data);"
   ]
  },
  {
   "cell_type": "code",
   "execution_count": 76,
   "metadata": {},
   "outputs": [],
   "source": [
    "x = copy(landing_probability_load)\n",
    "sort!(x, :issue_time);\n",
    "\n",
    "# Group data by issue time and count occurences in every group\n",
    "df = combine(groupby(x, [:issue_time]), DataFrames.nrow => :count);\n",
    "\n",
    "# Filter data by count. Only keep groups with 48 entries\n",
    "df_filtered = filter(:count => ==(48), df);\n",
    "\n",
    "issue_times_interest = df_filtered[!, :issue_time];\n",
    "landing_probability_filtered = innerjoin(x, df_filtered, on=:issue_time);\n",
    "landing_probability_filtered_matrix = reshape(landing_probability_filtered[!, :landing_probability], (48, size(df_filtered, 1)));\n",
    "landing_probability_filtered_matrix = transpose(landing_probability_filtered_matrix);"
   ]
  },
  {
   "cell_type": "code",
   "execution_count": 79,
   "metadata": {},
   "outputs": [
    {
     "data": {
      "text/html": [
       "<div><div style = \"float: left;\"><span>17232×5 DataFrame</span></div><div style = \"float: right;\"><span style = \"font-style: italic;\">17207 rows omitted</span></div><div style = \"clear: both;\"></div></div><div class = \"data-frame\" style = \"overflow-x: scroll;\"><table class = \"data-frame\" style = \"margin-bottom: 6px;\"><thead><tr class = \"header\"><th class = \"rowNumber\" style = \"font-weight: bold; text-align: right;\">Row</th><th style = \"text-align: left;\">issue_time</th><th style = \"text-align: left;\">forecast_time</th><th style = \"text-align: left;\">landing_probability</th><th style = \"text-align: left;\">ahead_factor</th><th style = \"text-align: left;\">count</th></tr><tr class = \"subheader headerLastRow\"><th class = \"rowNumber\" style = \"font-weight: bold; text-align: right;\"></th><th title = \"DateTime\" style = \"text-align: left;\">DateTime</th><th title = \"DateTime\" style = \"text-align: left;\">DateTime</th><th title = \"Float64\" style = \"text-align: left;\">Float64</th><th title = \"String\" style = \"text-align: left;\">String</th><th title = \"Int64\" style = \"text-align: left;\">Int64</th></tr></thead><tbody><tr><td class = \"rowNumber\" style = \"font-weight: bold; text-align: right;\">1</td><td style = \"text-align: left;\">2017-12-31T12:00:00</td><td style = \"text-align: left;\">2018-01-01T00:00:00</td><td style = \"text-align: right;\">0.888889</td><td style = \"text-align: left;\">one</td><td style = \"text-align: right;\">48</td></tr><tr><td class = \"rowNumber\" style = \"font-weight: bold; text-align: right;\">2</td><td style = \"text-align: left;\">2017-12-31T12:00:00</td><td style = \"text-align: left;\">2018-01-01T01:00:00</td><td style = \"text-align: right;\">0.585859</td><td style = \"text-align: left;\">one</td><td style = \"text-align: right;\">48</td></tr><tr><td class = \"rowNumber\" style = \"font-weight: bold; text-align: right;\">3</td><td style = \"text-align: left;\">2017-12-31T12:00:00</td><td style = \"text-align: left;\">2018-01-01T02:00:00</td><td style = \"text-align: right;\">0.545455</td><td style = \"text-align: left;\">one</td><td style = \"text-align: right;\">48</td></tr><tr><td class = \"rowNumber\" style = \"font-weight: bold; text-align: right;\">4</td><td style = \"text-align: left;\">2017-12-31T12:00:00</td><td style = \"text-align: left;\">2018-01-01T03:00:00</td><td style = \"text-align: right;\">0.505051</td><td style = \"text-align: left;\">one</td><td style = \"text-align: right;\">48</td></tr><tr><td class = \"rowNumber\" style = \"font-weight: bold; text-align: right;\">5</td><td style = \"text-align: left;\">2017-12-31T12:00:00</td><td style = \"text-align: left;\">2018-01-01T04:00:00</td><td style = \"text-align: right;\">0.252525</td><td style = \"text-align: left;\">one</td><td style = \"text-align: right;\">48</td></tr><tr><td class = \"rowNumber\" style = \"font-weight: bold; text-align: right;\">6</td><td style = \"text-align: left;\">2017-12-31T12:00:00</td><td style = \"text-align: left;\">2018-01-01T05:00:00</td><td style = \"text-align: right;\">0.505051</td><td style = \"text-align: left;\">one</td><td style = \"text-align: right;\">48</td></tr><tr><td class = \"rowNumber\" style = \"font-weight: bold; text-align: right;\">7</td><td style = \"text-align: left;\">2017-12-31T12:00:00</td><td style = \"text-align: left;\">2018-01-01T06:00:00</td><td style = \"text-align: right;\">0.111111</td><td style = \"text-align: left;\">one</td><td style = \"text-align: right;\">48</td></tr><tr><td class = \"rowNumber\" style = \"font-weight: bold; text-align: right;\">8</td><td style = \"text-align: left;\">2017-12-31T12:00:00</td><td style = \"text-align: left;\">2018-01-01T07:00:00</td><td style = \"text-align: right;\">0.444444</td><td style = \"text-align: left;\">one</td><td style = \"text-align: right;\">48</td></tr><tr><td class = \"rowNumber\" style = \"font-weight: bold; text-align: right;\">9</td><td style = \"text-align: left;\">2017-12-31T12:00:00</td><td style = \"text-align: left;\">2018-01-01T08:00:00</td><td style = \"text-align: right;\">0.767677</td><td style = \"text-align: left;\">one</td><td style = \"text-align: right;\">48</td></tr><tr><td class = \"rowNumber\" style = \"font-weight: bold; text-align: right;\">10</td><td style = \"text-align: left;\">2017-12-31T12:00:00</td><td style = \"text-align: left;\">2018-01-01T09:00:00</td><td style = \"text-align: right;\">0.787879</td><td style = \"text-align: left;\">one</td><td style = \"text-align: right;\">48</td></tr><tr><td class = \"rowNumber\" style = \"font-weight: bold; text-align: right;\">11</td><td style = \"text-align: left;\">2017-12-31T12:00:00</td><td style = \"text-align: left;\">2018-01-01T10:00:00</td><td style = \"text-align: right;\">0.939394</td><td style = \"text-align: left;\">one</td><td style = \"text-align: right;\">48</td></tr><tr><td class = \"rowNumber\" style = \"font-weight: bold; text-align: right;\">12</td><td style = \"text-align: left;\">2017-12-31T12:00:00</td><td style = \"text-align: left;\">2018-01-01T11:00:00</td><td style = \"text-align: right;\">0.767677</td><td style = \"text-align: left;\">one</td><td style = \"text-align: right;\">48</td></tr><tr><td class = \"rowNumber\" style = \"font-weight: bold; text-align: right;\">13</td><td style = \"text-align: left;\">2017-12-31T12:00:00</td><td style = \"text-align: left;\">2018-01-01T12:00:00</td><td style = \"text-align: right;\">0.494949</td><td style = \"text-align: left;\">one</td><td style = \"text-align: right;\">48</td></tr><tr><td style = \"text-align: right;\">&vellip;</td><td style = \"text-align: right;\">&vellip;</td><td style = \"text-align: right;\">&vellip;</td><td style = \"text-align: right;\">&vellip;</td><td style = \"text-align: right;\">&vellip;</td><td style = \"text-align: right;\">&vellip;</td></tr><tr><td class = \"rowNumber\" style = \"font-weight: bold; text-align: right;\">17221</td><td style = \"text-align: left;\">2018-12-28T12:00:00</td><td style = \"text-align: left;\">2018-12-30T12:00:00</td><td style = \"text-align: right;\">0.777778</td><td style = \"text-align: left;\">two</td><td style = \"text-align: right;\">48</td></tr><tr><td class = \"rowNumber\" style = \"font-weight: bold; text-align: right;\">17222</td><td style = \"text-align: left;\">2018-12-28T12:00:00</td><td style = \"text-align: left;\">2018-12-30T13:00:00</td><td style = \"text-align: right;\">0.707071</td><td style = \"text-align: left;\">two</td><td style = \"text-align: right;\">48</td></tr><tr><td class = \"rowNumber\" style = \"font-weight: bold; text-align: right;\">17223</td><td style = \"text-align: left;\">2018-12-28T12:00:00</td><td style = \"text-align: left;\">2018-12-30T14:00:00</td><td style = \"text-align: right;\">0.666667</td><td style = \"text-align: left;\">two</td><td style = \"text-align: right;\">48</td></tr><tr><td class = \"rowNumber\" style = \"font-weight: bold; text-align: right;\">17224</td><td style = \"text-align: left;\">2018-12-28T12:00:00</td><td style = \"text-align: left;\">2018-12-30T15:00:00</td><td style = \"text-align: right;\">0.585859</td><td style = \"text-align: left;\">two</td><td style = \"text-align: right;\">48</td></tr><tr><td class = \"rowNumber\" style = \"font-weight: bold; text-align: right;\">17225</td><td style = \"text-align: left;\">2018-12-28T12:00:00</td><td style = \"text-align: left;\">2018-12-30T16:00:00</td><td style = \"text-align: right;\">0.777778</td><td style = \"text-align: left;\">two</td><td style = \"text-align: right;\">48</td></tr><tr><td class = \"rowNumber\" style = \"font-weight: bold; text-align: right;\">17226</td><td style = \"text-align: left;\">2018-12-28T12:00:00</td><td style = \"text-align: left;\">2018-12-30T17:00:00</td><td style = \"text-align: right;\">0.808081</td><td style = \"text-align: left;\">two</td><td style = \"text-align: right;\">48</td></tr><tr><td class = \"rowNumber\" style = \"font-weight: bold; text-align: right;\">17227</td><td style = \"text-align: left;\">2018-12-28T12:00:00</td><td style = \"text-align: left;\">2018-12-30T18:00:00</td><td style = \"text-align: right;\">0.79798</td><td style = \"text-align: left;\">two</td><td style = \"text-align: right;\">48</td></tr><tr><td class = \"rowNumber\" style = \"font-weight: bold; text-align: right;\">17228</td><td style = \"text-align: left;\">2018-12-28T12:00:00</td><td style = \"text-align: left;\">2018-12-30T19:00:00</td><td style = \"text-align: right;\">0.777778</td><td style = \"text-align: left;\">two</td><td style = \"text-align: right;\">48</td></tr><tr><td class = \"rowNumber\" style = \"font-weight: bold; text-align: right;\">17229</td><td style = \"text-align: left;\">2018-12-28T12:00:00</td><td style = \"text-align: left;\">2018-12-30T20:00:00</td><td style = \"text-align: right;\">0.808081</td><td style = \"text-align: left;\">two</td><td style = \"text-align: right;\">48</td></tr><tr><td class = \"rowNumber\" style = \"font-weight: bold; text-align: right;\">17230</td><td style = \"text-align: left;\">2018-12-28T12:00:00</td><td style = \"text-align: left;\">2018-12-30T21:00:00</td><td style = \"text-align: right;\">0.727273</td><td style = \"text-align: left;\">two</td><td style = \"text-align: right;\">48</td></tr><tr><td class = \"rowNumber\" style = \"font-weight: bold; text-align: right;\">17231</td><td style = \"text-align: left;\">2018-12-28T12:00:00</td><td style = \"text-align: left;\">2018-12-30T22:00:00</td><td style = \"text-align: right;\">0.444444</td><td style = \"text-align: left;\">two</td><td style = \"text-align: right;\">48</td></tr><tr><td class = \"rowNumber\" style = \"font-weight: bold; text-align: right;\">17232</td><td style = \"text-align: left;\">2018-12-28T12:00:00</td><td style = \"text-align: left;\">2018-12-30T23:00:00</td><td style = \"text-align: right;\">0.414141</td><td style = \"text-align: left;\">two</td><td style = \"text-align: right;\">48</td></tr></tbody></table></div>"
      ],
      "text/latex": [
       "\\begin{tabular}{r|ccccc}\n",
       "\t& issue\\_time & forecast\\_time & landing\\_probability & ahead\\_factor & count\\\\\n",
       "\t\\hline\n",
       "\t& DateTime & DateTime & Float64 & String & Int64\\\\\n",
       "\t\\hline\n",
       "\t1 & 2017-12-31T12:00:00 & 2018-01-01T00:00:00 & 0.888889 & one & 48 \\\\\n",
       "\t2 & 2017-12-31T12:00:00 & 2018-01-01T01:00:00 & 0.585859 & one & 48 \\\\\n",
       "\t3 & 2017-12-31T12:00:00 & 2018-01-01T02:00:00 & 0.545455 & one & 48 \\\\\n",
       "\t4 & 2017-12-31T12:00:00 & 2018-01-01T03:00:00 & 0.505051 & one & 48 \\\\\n",
       "\t5 & 2017-12-31T12:00:00 & 2018-01-01T04:00:00 & 0.252525 & one & 48 \\\\\n",
       "\t6 & 2017-12-31T12:00:00 & 2018-01-01T05:00:00 & 0.505051 & one & 48 \\\\\n",
       "\t7 & 2017-12-31T12:00:00 & 2018-01-01T06:00:00 & 0.111111 & one & 48 \\\\\n",
       "\t8 & 2017-12-31T12:00:00 & 2018-01-01T07:00:00 & 0.444444 & one & 48 \\\\\n",
       "\t9 & 2017-12-31T12:00:00 & 2018-01-01T08:00:00 & 0.767677 & one & 48 \\\\\n",
       "\t10 & 2017-12-31T12:00:00 & 2018-01-01T09:00:00 & 0.787879 & one & 48 \\\\\n",
       "\t11 & 2017-12-31T12:00:00 & 2018-01-01T10:00:00 & 0.939394 & one & 48 \\\\\n",
       "\t12 & 2017-12-31T12:00:00 & 2018-01-01T11:00:00 & 0.767677 & one & 48 \\\\\n",
       "\t13 & 2017-12-31T12:00:00 & 2018-01-01T12:00:00 & 0.494949 & one & 48 \\\\\n",
       "\t14 & 2017-12-31T12:00:00 & 2018-01-01T13:00:00 & 0.222222 & one & 48 \\\\\n",
       "\t15 & 2017-12-31T12:00:00 & 2018-01-01T14:00:00 & 0.343434 & one & 48 \\\\\n",
       "\t16 & 2017-12-31T12:00:00 & 2018-01-01T15:00:00 & 0.0606061 & one & 48 \\\\\n",
       "\t17 & 2017-12-31T12:00:00 & 2018-01-01T16:00:00 & 0.424242 & one & 48 \\\\\n",
       "\t18 & 2017-12-31T12:00:00 & 2018-01-01T17:00:00 & 0.616162 & one & 48 \\\\\n",
       "\t19 & 2017-12-31T12:00:00 & 2018-01-01T18:00:00 & 0.626263 & one & 48 \\\\\n",
       "\t20 & 2017-12-31T12:00:00 & 2018-01-01T19:00:00 & 0.767677 & one & 48 \\\\\n",
       "\t21 & 2017-12-31T12:00:00 & 2018-01-01T20:00:00 & 0.818182 & one & 48 \\\\\n",
       "\t22 & 2017-12-31T12:00:00 & 2018-01-01T21:00:00 & 0.848485 & one & 48 \\\\\n",
       "\t23 & 2017-12-31T12:00:00 & 2018-01-01T22:00:00 & 0.767677 & one & 48 \\\\\n",
       "\t24 & 2017-12-31T12:00:00 & 2018-01-01T23:00:00 & 0.59596 & one & 48 \\\\\n",
       "\t$\\dots$ & $\\dots$ & $\\dots$ & $\\dots$ & $\\dots$ & $\\dots$ \\\\\n",
       "\\end{tabular}\n"
      ],
      "text/plain": [
       "\u001b[1m17232×5 DataFrame\u001b[0m\n",
       "\u001b[1m   Row \u001b[0m│\u001b[1m issue_time          \u001b[0m\u001b[1m forecast_time       \u001b[0m\u001b[1m landing_probability \u001b[0m\u001b[1m ahead_\u001b[0m ⋯\n",
       "       │\u001b[90m DateTime            \u001b[0m\u001b[90m DateTime            \u001b[0m\u001b[90m Float64             \u001b[0m\u001b[90m String\u001b[0m ⋯\n",
       "───────┼────────────────────────────────────────────────────────────────────────\n",
       "     1 │ 2017-12-31T12:00:00  2018-01-01T00:00:00             0.888889  one    ⋯\n",
       "     2 │ 2017-12-31T12:00:00  2018-01-01T01:00:00             0.585859  one\n",
       "     3 │ 2017-12-31T12:00:00  2018-01-01T02:00:00             0.545455  one\n",
       "     4 │ 2017-12-31T12:00:00  2018-01-01T03:00:00             0.505051  one\n",
       "     5 │ 2017-12-31T12:00:00  2018-01-01T04:00:00             0.252525  one    ⋯\n",
       "     6 │ 2017-12-31T12:00:00  2018-01-01T05:00:00             0.505051  one\n",
       "     7 │ 2017-12-31T12:00:00  2018-01-01T06:00:00             0.111111  one\n",
       "     8 │ 2017-12-31T12:00:00  2018-01-01T07:00:00             0.444444  one\n",
       "   ⋮   │          ⋮                    ⋮                    ⋮                ⋮ ⋱\n",
       " 17226 │ 2018-12-28T12:00:00  2018-12-30T17:00:00             0.808081  two    ⋯\n",
       " 17227 │ 2018-12-28T12:00:00  2018-12-30T18:00:00             0.79798   two\n",
       " 17228 │ 2018-12-28T12:00:00  2018-12-30T19:00:00             0.777778  two\n",
       " 17229 │ 2018-12-28T12:00:00  2018-12-30T20:00:00             0.808081  two\n",
       " 17230 │ 2018-12-28T12:00:00  2018-12-30T21:00:00             0.727273  two    ⋯\n",
       " 17231 │ 2018-12-28T12:00:00  2018-12-30T22:00:00             0.444444  two\n",
       " 17232 │ 2018-12-28T12:00:00  2018-12-30T23:00:00             0.414141  two\n",
       "\u001b[36m                                                2 columns and 17217 rows omitted\u001b[0m"
      ]
     },
     "metadata": {},
     "output_type": "display_data"
    }
   ],
   "source": [
    "landing_probability_filtered"
   ]
  },
  {
   "cell_type": "code",
   "execution_count": 80,
   "metadata": {},
   "outputs": [
    {
     "data": {
      "text/plain": [
       "359-element Vector{DateTime}:\n",
       " 2017-12-31T12:00:00\n",
       " 2018-01-01T12:00:00\n",
       " 2018-01-02T12:00:00\n",
       " 2018-01-03T12:00:00\n",
       " 2018-01-04T12:00:00\n",
       " 2018-01-05T12:00:00\n",
       " 2018-01-06T12:00:00\n",
       " 2018-01-07T12:00:00\n",
       " 2018-01-08T12:00:00\n",
       " 2018-01-09T12:00:00\n",
       " ⋮\n",
       " 2018-12-20T12:00:00\n",
       " 2018-12-21T12:00:00\n",
       " 2018-12-22T12:00:00\n",
       " 2018-12-23T12:00:00\n",
       " 2018-12-24T12:00:00\n",
       " 2018-12-25T12:00:00\n",
       " 2018-12-26T12:00:00\n",
       " 2018-12-27T12:00:00\n",
       " 2018-12-28T12:00:00"
      ]
     },
     "metadata": {},
     "output_type": "display_data"
    }
   ],
   "source": [
    "x = copy(wind_data);\n",
    "# Sort data by issue time\n",
    "sort!(x, :issue_time);\n",
    "# Group data by issue time and count occurences in every group\n",
    "df = combine(groupby(x, [:issue_time]), DataFrames.nrow => :count);\n",
    "# Filter data by count. Only keep groups with 48 entries\n",
    "df_filtered = filter(:count => ==(48), df);\n",
    "issue_times_interest = df_filtered[!, :issue_time];\n",
    "# find all forecast times for these issue times of interest"
   ]
  },
  {
   "cell_type": "code",
   "execution_count": 132,
   "metadata": {},
   "outputs": [],
   "source": [
    "subset_data = filter(row -> row[:issue_time] in issue_times_interest, wind_data);\n",
    "subset_forecast_times = subset_data[!, :forecast_time];\n",
    "unique_forecast_times = unique(subset_forecast_times);\n",
    "forecast_T = length(unique_forecast_times)\n",
    "\n",
    "unique_issue_times = unique(subset_wind_data[!, :issue_time]);"
   ]
  },
  {
   "cell_type": "code",
   "execution_count": 142,
   "metadata": {},
   "outputs": [
    {
     "name": "stdout",
     "output_type": "stream",
     "text": [
      "24.200557103064067"
     ]
    },
    {
     "name": "stdout",
     "output_type": "stream",
     "text": [
      "\n"
     ]
    }
   ],
   "source": [
    "no_issues = length(unique_issue_times);\n",
    "no_forecasts = length(unique_forecast_times);\n",
    "\n",
    "no_forecasts/no_issues == 24\n",
    "println(no_forecasts/no_issues)"
   ]
  },
  {
   "cell_type": "markdown",
   "metadata": {},
   "source": [
    "* Why is it not exactly 24? \n",
    "    * is it because of daylight savings time?"
   ]
  },
  {
   "cell_type": "code",
   "execution_count": 146,
   "metadata": {},
   "outputs": [
    {
     "data": {
      "text/plain": [
       "24.211699164345404"
      ]
     },
     "metadata": {},
     "output_type": "display_data"
    }
   ],
   "source": [
    "(no_forecasts+4)/no_issues"
   ]
  },
  {
   "cell_type": "markdown",
   "metadata": {},
   "source": [
    "        * no it does not appear to be the case"
   ]
  },
  {
   "cell_type": "code",
   "execution_count": 155,
   "metadata": {},
   "outputs": [
    {
     "data": {
      "text/plain": [
       "49"
      ]
     },
     "metadata": {},
     "output_type": "display_data"
    }
   ],
   "source": [
    "# Create an empty dataframe\n",
    "test = DataFrame(issue_time = DateTime[], forecast_time = DateTime[])\n",
    "\n",
    "test_time = unique_issue_times[3]\n",
    "test_issue_index = findall(x -> x == test_time, subset_data.issue_time)[1]\n",
    "\n",
    "# idx = (test_issue_index-1)*24 +1\n",
    "\n",
    "# test_forecast_times = subset_data[idx:idx+23, :forecast_time]\n"
   ]
  },
  {
   "cell_type": "code",
   "execution_count": 154,
   "metadata": {},
   "outputs": [
    {
     "data": {
      "text/plain": [
       "25"
      ]
     },
     "metadata": {},
     "output_type": "display_data"
    }
   ],
   "source": [
    "test_issue_index"
   ]
  },
  {
   "cell_type": "code",
   "execution_count": 170,
   "metadata": {},
   "outputs": [
    {
     "data": {
      "text/plain": [
       "\"unique_forecast_times.csv\""
      ]
     },
     "metadata": {},
     "output_type": "display_data"
    }
   ],
   "source": [
    "# save_index = DataFrame(issue_index = Int[])\n",
    "\n",
    "# Create an empty dataframe\n",
    "df = DataFrame(issue_time = DateTime[], forecast_time = DateTime[])\n",
    "\n",
    "# Iterate over each issue_time\n",
    "for issue_time in unique_issue_times\n",
    "    # Get the index of the current issue_time\n",
    "    issue_index = findall(x -> x == issue_time, subset_data.issue_time)[1]\n",
    "    # append!(save_index, DataFrame(issue_index = issue_index)) # make sure it is doing what i want\n",
    "\n",
    "    # Get the corresponding forecast_times for the current issue_time\n",
    "    forecast_times = subset_data[issue_index:issue_index+23, :forecast_time]\n",
    "    \n",
    "    # Create a temporary dataframe for the current issue_time and forecast_times\n",
    "    temp_df = DataFrame(issue_time = fill(issue_time, 24), forecast_time = forecast_times)\n",
    "    \n",
    "    # Append the temporary dataframe to the main dataframe\n",
    "    append!(df, temp_df)\n",
    "end\n",
    "\n",
    "# Show the resulting dataframe\n",
    "df\n",
    "\n",
    "# save_index\n",
    "# CSV.write(\"issue_index.csv\", save_index)\n",
    "CSV.write(\"issue_forecast_times.csv\", df)\n",
    "CSV.write(\"unique_forecast_times.csv\", DataFrame(unique_forecast_times = unique_forecast_times))\n",
    "\n"
   ]
  },
  {
   "cell_type": "markdown",
   "metadata": {},
   "source": []
  },
  {
   "cell_type": "markdown",
   "metadata": {},
   "source": [
    "could the difference between the unique forecasts and the length of the dataframe be 24 for the last forecast?"
   ]
  },
  {
   "cell_type": "code",
   "execution_count": 166,
   "metadata": {},
   "outputs": [
    {
     "data": {
      "text/plain": [
       "true"
      ]
     },
     "metadata": {},
     "output_type": "display_data"
    }
   ],
   "source": [
    "no_forecasts - 72 == size(df)[1]"
   ]
  },
  {
   "cell_type": "markdown",
   "metadata": {},
   "source": [
    "* Why 72 though?"
   ]
  },
  {
   "cell_type": "code",
   "execution_count": 167,
   "metadata": {},
   "outputs": [
    {
     "data": {
      "text/plain": [
       "8616"
      ]
     },
     "metadata": {},
     "output_type": "display_data"
    }
   ],
   "source": [
    "359*24"
   ]
  },
  {
   "cell_type": "markdown",
   "metadata": {},
   "source": [
    "Check an excel printout and compare to the printout of unique_forecast_times..."
   ]
  },
  {
   "cell_type": "markdown",
   "metadata": {},
   "source": [
    "yes the issue is the daylight savings time"
   ]
  },
  {
   "cell_type": "code",
   "execution_count": 173,
   "metadata": {},
   "outputs": [
    {
     "data": {
      "text/plain": [
       "\"sorted_unique_forecast_times.csv\""
      ]
     },
     "metadata": {},
     "output_type": "display_data"
    }
   ],
   "source": [
    "CSV.write(\"sorted_unique_forecast_times.csv\", sort(DataFrame(unique_forecast_times = unique_forecast_times)))"
   ]
  },
  {
   "cell_type": "markdown",
   "metadata": {},
   "source": [
    "Sorting the unique forecast seems to fix the issue. Then maybe in the for loop above i just need to use the sorted unique forecast times instead of the subset_data..."
   ]
  },
  {
   "cell_type": "code",
   "execution_count": 174,
   "metadata": {},
   "outputs": [
    {
     "data": {
      "text/plain": [
       "8688-element Vector{DateTime}:\n",
       " 2018-01-01T00:00:00\n",
       " 2018-01-01T01:00:00\n",
       " 2018-01-01T02:00:00\n",
       " 2018-01-01T03:00:00\n",
       " 2018-01-01T04:00:00\n",
       " 2018-01-01T05:00:00\n",
       " 2018-01-01T06:00:00\n",
       " 2018-01-01T07:00:00\n",
       " 2018-01-01T08:00:00\n",
       " 2018-01-01T09:00:00\n",
       " ⋮\n",
       " 2018-12-30T15:00:00\n",
       " 2018-12-30T16:00:00\n",
       " 2018-12-30T17:00:00\n",
       " 2018-12-30T18:00:00\n",
       " 2018-12-30T19:00:00\n",
       " 2018-12-30T20:00:00\n",
       " 2018-12-30T21:00:00\n",
       " 2018-12-30T22:00:00\n",
       " 2018-12-30T23:00:00"
      ]
     },
     "metadata": {},
     "output_type": "display_data"
    }
   ],
   "source": [
    "sort!(unique_forecast_times)"
   ]
  },
  {
   "cell_type": "code",
   "execution_count": 178,
   "metadata": {},
   "outputs": [
    {
     "data": {
      "text/plain": [
       "\"issue_forecast_times.csv\""
      ]
     },
     "metadata": {},
     "output_type": "display_data"
    }
   ],
   "source": [
    "# Create an empty dataframe\n",
    "df = DataFrame(issue_time = DateTime[], forecast_time = DateTime[])\n",
    "\n",
    "# Iterate over each issue_time\n",
    "for issue_time in unique_issue_times\n",
    "    # Get the index of the current issue_time\n",
    "    issue_index = findall(x -> x == issue_time, subset_data.issue_time)[1]\n",
    "    # append!(save_index, DataFrame(issue_index = issue_index)) # make sure it is doing what i want\n",
    "\n",
    "    # Get the corresponding forecast_times for the current issue_time\n",
    "    forecast_times = unique_forecast_times[issue_index:issue_index+23]\n",
    "    \n",
    "    # Create a temporary dataframe for the current issue_time and forecast_times\n",
    "    temp_df = DataFrame(issue_time = fill(issue_time, 24), forecast_time = forecast_times)\n",
    "    \n",
    "    # Append the temporary dataframe to the main dataframe\n",
    "    append!(df, temp_df)\n",
    "end\n",
    "\n",
    "# Show the resulting dataframe\n",
    "df\n",
    "CSV.write(\"issue_forecast_times.csv\", df)"
   ]
  },
  {
   "cell_type": "markdown",
   "metadata": {},
   "source": [
    "It appears that the issue times are missing two days each around the daylight savings times.\n",
    "* check to make sure it is not also a sorting issue"
   ]
  },
  {
   "cell_type": "code",
   "execution_count": 179,
   "metadata": {},
   "outputs": [
    {
     "data": {
      "text/plain": [
       "\"unique_issue_times.csv\""
      ]
     },
     "metadata": {},
     "output_type": "display_data"
    }
   ],
   "source": [
    "CSV.write(\"unique_issue_times.csv\", sort(DataFrame(unique_issue_times = unique_issue_times)))"
   ]
  },
  {
   "attachments": {
    "image-2.png": {
     "image/png": "[encoded data removed]"
    },
    "image.png": {
     "image/png": "[encoded data removed]"
    }
   },
   "cell_type": "markdown",
   "metadata": {},
   "source": [
    "![image.png](attachment:image.png)\n",
    "\n",
    "![image-2.png](attachment:image-2.png)\n",
    "\n",
    "Actually there is more weirdness than just that..."
   ]
  },
  {
   "cell_type": "markdown",
   "metadata": {},
   "source": [
    "* why does it go from 12:00:00 to 13:00:00 and back?"
   ]
  },
  {
   "cell_type": "markdown",
   "metadata": {},
   "source": [
    "That's 4 days of issue dates that we are missing... does that mean the 359 landing probability matrix is incorrect?\n",
    "\n",
    "    - I think so... and it should be a landing probability matrix of 363"
   ]
  },
  {
   "cell_type": "markdown",
   "metadata": {},
   "source": [
    "So go back into which function?\n",
    "* convert_hours_2018?\n",
    "    * I think so\n",
    "\n",
    "OR is it an artifact of the data and of forecasting during daylight savings time?\n",
    "\n",
    "How should I check?\n",
    "* check the inputs of the data... check the inputs and outputs after convert hours 2018...\n"
   ]
  },
  {
   "attachments": {
    "image.png": {
     "image/png": "[encoded data removed]"
    }
   },
   "cell_type": "markdown",
   "metadata": {},
   "source": [
    "![image.png](attachment:image.png)\n",
    "\n",
    "the pre_data from before convert_hours_2018 seems to have all the issues there for both march and november... so that suggests that convert_hours_2018 is the issue"
   ]
  },
  {
   "cell_type": "code",
   "execution_count": 128,
   "metadata": {},
   "outputs": [
    {
     "data": {
      "text/plain": [
       "1-element Vector{DateTime}:\n",
       " 2018-08-28T12:00:00"
      ]
     },
     "metadata": {},
     "output_type": "display_data"
    }
   ],
   "source": [
    "hour_index = findall(x -> x == start_date, subset_data[!,:forecast_time])[1];\n",
    "current_issue = subset_data[hour_index, :issue_time];\n",
    "\n",
    "# find index of current issue time\n",
    "issue_index = findall(x -> x == current_issue, unique_issue)[1];\n",
    "# find next issue time and compare to start date\n",
    "next_issue = unique_issue[issue_index + 1];\n",
    "active_issues = [current_issue];\n",
    "issue_indices = findall(x -> x in active_issues, subset_data[!,:issue_time]);\n",
    "available_lookahead_times = subset_data[issue_indices,:forecast_time];\n",
    "# filter for the times that are after the current time, (greater than the current hour)\n",
    "active_times = available_lookahead_times[available_lookahead_times .>= start_date];\n",
    "length_lookahead = length(active_times);\n",
    "\n",
    "if length_lookahead == 24\n",
    "    active_issues = [next_issue];\n",
    "else length_lookahead > 24\n",
    "    active_issues = [current_issue];\n",
    "elseif length_looakeahd < 24\n",
    "    println(\"FATAL ERROR\")\n",
    "end\n",
    "\n",
    "# XXX potentially another method \n",
    "# if start_date > next_issue\n",
    "#     # push!(active_issues, next_issue) # use this if \n",
    "#     active_issues = [next_issue]\n",
    "# else\n",
    "#     active_issues = [current_issue]\n",
    "# end\n"
   ]
  },
  {
   "cell_type": "code",
   "execution_count": 131,
   "metadata": {},
   "outputs": [
    {
     "data": {
      "text/plain": [
       "(17232, 103)"
      ]
     },
     "metadata": {},
     "output_type": "display_data"
    }
   ],
   "source": [
    "size(subset_data)"
   ]
  },
  {
   "cell_type": "code",
   "execution_count": null,
   "metadata": {},
   "outputs": [],
   "source": [
    "if start_date > next_issue\n",
    "    # push!(active_issues, next_issue) # use this if \n",
    "    active_issues = [next_issue]\n",
    "else\n",
    "    active_issues = [current_issue]\n",
    "end\n",
    "\n",
    "# get the indices of the forecasts of the active issue times\n",
    "issue_indices = findall(x -> x in active_issues, times[!,:issue_time])\n",
    "available_lookahead_times = times[issue_indices,:forecast_time]\n",
    "# filter for the times that are after the current time, (greater than the current hour)\n",
    "active_times = available_lookahead_times[available_lookahead_times .>= start_date]"
   ]
  }
 ],
 "metadata": {
  "kernelspec": {
   "display_name": "Julia 1.9.4",
   "language": "julia",
   "name": "julia-1.9"
  },
  "language_info": {
   "file_extension": ".jl",
   "mimetype": "application/julia",
   "name": "julia",
   "version": "1.9.4"
  }
 },
 "nbformat": 4,
 "nbformat_minor": 2
}
